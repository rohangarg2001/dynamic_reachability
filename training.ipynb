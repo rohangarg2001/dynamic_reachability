{
 "cells": [
  {
   "cell_type": "code",
   "execution_count": 27,
   "metadata": {},
   "outputs": [],
   "source": [
    "import numpy as np\n",
    "import mlmodel\n",
    "import torch\n",
    "import torch.nn as nn\n",
    "import importlib\n",
    "import torch\n",
    "import dataloader\n",
    "import pickle\n",
    "import matplotlib.pyplot as plt\n",
    "importlib.reload(mlmodel)\n",
    "importlib.reload(dataloader)\n",
    "import torch.utils.data.dataloader\n",
    "device = torch.device(\"cuda:1\")"
   ]
  },
  {
   "cell_type": "code",
   "execution_count": 2,
   "metadata": {},
   "outputs": [],
   "source": [
    "options = {}\n",
    "options['dim_x'] = 103\n",
    "options['dim_output'] = 1\n",
    "options['w0'] = 30.0\n",
    "options['epochs'] = 500\n",
    "options['batch_size_train'] = 96\n",
    "options['learning_rate'] = 1e-5"
   ]
  },
  {
   "cell_type": "code",
   "execution_count": 3,
   "metadata": {},
   "outputs": [],
   "source": [
    "groups = ['0', '10', '20', '30', '40', '50', '60', '70', '80', '90', '100', '110', '120', '130', '140', '150']\n",
    "\n",
    "Trainloader = []\n",
    "\n",
    "for group in groups:\n",
    "    with open('/home/rohan/Desktop/228v_project/processed_data/group_' + group + '.pkl', 'rb') as f:\n",
    "        group_data = pickle.load(f)\n",
    "        train_data = dataloader.EnvironmentDataset(group_data['X_val'], group_data['O_e'], group_data['V_val'], group_data['del_V'])\n",
    "        train_loader = torch.utils.data.DataLoader(train_data, options['batch_size_train'], shuffle=True)\n",
    "        Trainloader.append(train_loader)"
   ]
  },
  {
   "cell_type": "code",
   "execution_count": 12,
   "metadata": {},
   "outputs": [],
   "source": [
    "ocr = mlmodel.OCR_NN(options)\n",
    "ocr = ocr.to(device)"
   ]
  },
  {
   "cell_type": "code",
   "execution_count": 28,
   "metadata": {},
   "outputs": [],
   "source": [
    "ocr_relu = mlmodel.OCR_NN_ReLu(options)\n",
    "ocr_relu = ocr_relu.to(device)"
   ]
  },
  {
   "cell_type": "code",
   "execution_count": null,
   "metadata": {},
   "outputs": [],
   "source": [
    "criteria = nn.MSELoss()\n",
    "optimzer = torch.optim.Adam(ocr.parameters(), lr=options['learning_rate'])"
   ]
  },
  {
   "cell_type": "code",
   "execution_count": 29,
   "metadata": {},
   "outputs": [],
   "source": [
    "criteria = nn.MSELoss()\n",
    "optimzer_relu = torch.optim.Adam(ocr_relu.parameters(), lr=options['learning_rate'])"
   ]
  },
  {
   "cell_type": "code",
   "execution_count": 14,
   "metadata": {},
   "outputs": [
    {
     "name": "stdout",
     "output_type": "stream",
     "text": [
      "11.733857064468651\n",
      "11.062522860265327\n",
      "11.334885954228854\n",
      "11.90696774565854\n",
      "11.590608583042448\n",
      "11.294951170625815\n",
      "11.653152038568052\n",
      "11.496398046270183\n",
      "11.240190014300218\n",
      "11.385313452774538\n",
      "11.146559012489986\n",
      "10.897159679924847\n",
      "10.648936404436256\n",
      "10.548009271251745\n",
      "10.378573737724532\n",
      "9.832853181979894\n",
      "9.784214150231916\n",
      "9.247121521625026\n",
      "9.258509019211335\n",
      "8.833410117932207\n",
      "8.686523691476305\n",
      "8.316055494335648\n",
      "8.116923669060528\n",
      "7.875454791518235\n",
      "7.845033757702601\n",
      "7.322064109603335\n",
      "7.235551033725684\n",
      "7.064162286904808\n",
      "6.7100610381912915\n",
      "6.586179959648414\n",
      "6.261855880590691\n",
      "6.165860219933521\n",
      "6.099653320037314\n",
      "6.071485739044303\n",
      "5.9169108563912785\n",
      "5.747133554569606\n",
      "5.6443296409144255\n",
      "5.496953207128806\n",
      "5.443783476463452\n",
      "5.271168771203451\n",
      "5.243384931935889\n",
      "5.115103376693881\n",
      "5.049293355523855\n",
      "5.030612358730643\n",
      "5.005047172393607\n",
      "4.920359395301662\n",
      "4.915711047377623\n",
      "4.925165139566893\n",
      "4.904149073322386\n",
      "4.8378725325353304\n",
      "4.873508559789694\n",
      "4.807903299843215\n",
      "4.768844208755027\n",
      "4.776324132621516\n",
      "4.7135646268154465\n",
      "4.720212220974352\n",
      "4.602384958687413\n",
      "4.626326991994491\n",
      "4.582753821122692\n",
      "4.581329300057614\n",
      "4.526093565298679\n",
      "4.573878447328948\n",
      "4.453219780862559\n",
      "4.493198840411458\n",
      "4.536123301876687\n",
      "4.491048933617\n",
      "4.48738240579079\n",
      "4.472602951401038\n",
      "4.397366345185658\n",
      "4.399620931324375\n",
      "4.459058750235258\n",
      "4.472171117633695\n",
      "4.538224335374503\n",
      "4.4753909524087705\n",
      "4.451182356082845\n",
      "4.51050831894194\n",
      "4.4694160543011066\n",
      "4.44619523882295\n",
      "4.394073156675616\n",
      "4.371977840575222\n",
      "4.334801611800988\n",
      "4.362167812255835\n"
     ]
    },
    {
     "ename": "KeyboardInterrupt",
     "evalue": "",
     "output_type": "error",
     "traceback": [
      "\u001b[0;31m---------------------------------------------------------------------------\u001b[0m",
      "\u001b[0;31mKeyboardInterrupt\u001b[0m                         Traceback (most recent call last)",
      "Cell \u001b[0;32mIn[14], line 10\u001b[0m\n\u001b[1;32m      8\u001b[0m \u001b[38;5;28;01mfor\u001b[39;00m i \u001b[38;5;129;01min\u001b[39;00m arr:\n\u001b[1;32m      9\u001b[0m     train_loader \u001b[38;5;241m=\u001b[39m Trainloader[i]\n\u001b[0;32m---> 10\u001b[0m     \u001b[38;5;28;01mfor\u001b[39;00m batch \u001b[38;5;129;01min\u001b[39;00m train_loader:\n\u001b[1;32m     11\u001b[0m         X_r, O_e, V_val, del_V \u001b[38;5;241m=\u001b[39m batch[\u001b[38;5;124m'\u001b[39m\u001b[38;5;124mX_r\u001b[39m\u001b[38;5;124m'\u001b[39m], batch[\u001b[38;5;124m'\u001b[39m\u001b[38;5;124mO_e\u001b[39m\u001b[38;5;124m'\u001b[39m], batch[\u001b[38;5;124m'\u001b[39m\u001b[38;5;124mV_val\u001b[39m\u001b[38;5;124m'\u001b[39m], batch[\u001b[38;5;124m'\u001b[39m\u001b[38;5;124mdel_V\u001b[39m\u001b[38;5;124m'\u001b[39m]\n\u001b[1;32m     13\u001b[0m         \u001b[38;5;28minput\u001b[39m \u001b[38;5;241m=\u001b[39m torch\u001b[38;5;241m.\u001b[39mhstack((X_r, O_e))\u001b[38;5;241m.\u001b[39mto(device)\u001b[38;5;241m.\u001b[39mfloat()\n",
      "File \u001b[0;32m~/Desktop/.venv/lib/python3.10/site-packages/torch/utils/data/dataloader.py:708\u001b[0m, in \u001b[0;36m_BaseDataLoaderIter.__next__\u001b[0;34m(self)\u001b[0m\n\u001b[1;32m    705\u001b[0m \u001b[38;5;28;01mif\u001b[39;00m \u001b[38;5;28mself\u001b[39m\u001b[38;5;241m.\u001b[39m_sampler_iter \u001b[38;5;129;01mis\u001b[39;00m \u001b[38;5;28;01mNone\u001b[39;00m:\n\u001b[1;32m    706\u001b[0m     \u001b[38;5;66;03m# TODO(https://github.com/pytorch/pytorch/issues/76750)\u001b[39;00m\n\u001b[1;32m    707\u001b[0m     \u001b[38;5;28mself\u001b[39m\u001b[38;5;241m.\u001b[39m_reset()  \u001b[38;5;66;03m# type: ignore[call-arg]\u001b[39;00m\n\u001b[0;32m--> 708\u001b[0m data \u001b[38;5;241m=\u001b[39m \u001b[38;5;28;43mself\u001b[39;49m\u001b[38;5;241;43m.\u001b[39;49m\u001b[43m_next_data\u001b[49m\u001b[43m(\u001b[49m\u001b[43m)\u001b[49m\n\u001b[1;32m    709\u001b[0m \u001b[38;5;28mself\u001b[39m\u001b[38;5;241m.\u001b[39m_num_yielded \u001b[38;5;241m+\u001b[39m\u001b[38;5;241m=\u001b[39m \u001b[38;5;241m1\u001b[39m\n\u001b[1;32m    710\u001b[0m \u001b[38;5;28;01mif\u001b[39;00m (\n\u001b[1;32m    711\u001b[0m     \u001b[38;5;28mself\u001b[39m\u001b[38;5;241m.\u001b[39m_dataset_kind \u001b[38;5;241m==\u001b[39m _DatasetKind\u001b[38;5;241m.\u001b[39mIterable\n\u001b[1;32m    712\u001b[0m     \u001b[38;5;129;01mand\u001b[39;00m \u001b[38;5;28mself\u001b[39m\u001b[38;5;241m.\u001b[39m_IterableDataset_len_called \u001b[38;5;129;01mis\u001b[39;00m \u001b[38;5;129;01mnot\u001b[39;00m \u001b[38;5;28;01mNone\u001b[39;00m\n\u001b[1;32m    713\u001b[0m     \u001b[38;5;129;01mand\u001b[39;00m \u001b[38;5;28mself\u001b[39m\u001b[38;5;241m.\u001b[39m_num_yielded \u001b[38;5;241m>\u001b[39m \u001b[38;5;28mself\u001b[39m\u001b[38;5;241m.\u001b[39m_IterableDataset_len_called\n\u001b[1;32m    714\u001b[0m ):\n",
      "File \u001b[0;32m~/Desktop/.venv/lib/python3.10/site-packages/torch/utils/data/dataloader.py:764\u001b[0m, in \u001b[0;36m_SingleProcessDataLoaderIter._next_data\u001b[0;34m(self)\u001b[0m\n\u001b[1;32m    762\u001b[0m \u001b[38;5;28;01mdef\u001b[39;00m\u001b[38;5;250m \u001b[39m\u001b[38;5;21m_next_data\u001b[39m(\u001b[38;5;28mself\u001b[39m):\n\u001b[1;32m    763\u001b[0m     index \u001b[38;5;241m=\u001b[39m \u001b[38;5;28mself\u001b[39m\u001b[38;5;241m.\u001b[39m_next_index()  \u001b[38;5;66;03m# may raise StopIteration\u001b[39;00m\n\u001b[0;32m--> 764\u001b[0m     data \u001b[38;5;241m=\u001b[39m \u001b[38;5;28;43mself\u001b[39;49m\u001b[38;5;241;43m.\u001b[39;49m\u001b[43m_dataset_fetcher\u001b[49m\u001b[38;5;241;43m.\u001b[39;49m\u001b[43mfetch\u001b[49m\u001b[43m(\u001b[49m\u001b[43mindex\u001b[49m\u001b[43m)\u001b[49m  \u001b[38;5;66;03m# may raise StopIteration\u001b[39;00m\n\u001b[1;32m    765\u001b[0m     \u001b[38;5;28;01mif\u001b[39;00m \u001b[38;5;28mself\u001b[39m\u001b[38;5;241m.\u001b[39m_pin_memory:\n\u001b[1;32m    766\u001b[0m         data \u001b[38;5;241m=\u001b[39m _utils\u001b[38;5;241m.\u001b[39mpin_memory\u001b[38;5;241m.\u001b[39mpin_memory(data, \u001b[38;5;28mself\u001b[39m\u001b[38;5;241m.\u001b[39m_pin_memory_device)\n",
      "File \u001b[0;32m~/Desktop/.venv/lib/python3.10/site-packages/torch/utils/data/_utils/fetch.py:52\u001b[0m, in \u001b[0;36m_MapDatasetFetcher.fetch\u001b[0;34m(self, possibly_batched_index)\u001b[0m\n\u001b[1;32m     50\u001b[0m         data \u001b[38;5;241m=\u001b[39m \u001b[38;5;28mself\u001b[39m\u001b[38;5;241m.\u001b[39mdataset\u001b[38;5;241m.\u001b[39m__getitems__(possibly_batched_index)\n\u001b[1;32m     51\u001b[0m     \u001b[38;5;28;01melse\u001b[39;00m:\n\u001b[0;32m---> 52\u001b[0m         data \u001b[38;5;241m=\u001b[39m [\u001b[38;5;28mself\u001b[39m\u001b[38;5;241m.\u001b[39mdataset[idx] \u001b[38;5;28;01mfor\u001b[39;00m idx \u001b[38;5;129;01min\u001b[39;00m possibly_batched_index]\n\u001b[1;32m     53\u001b[0m \u001b[38;5;28;01melse\u001b[39;00m:\n\u001b[1;32m     54\u001b[0m     data \u001b[38;5;241m=\u001b[39m \u001b[38;5;28mself\u001b[39m\u001b[38;5;241m.\u001b[39mdataset[possibly_batched_index]\n",
      "File \u001b[0;32m~/Desktop/.venv/lib/python3.10/site-packages/torch/utils/data/_utils/fetch.py:52\u001b[0m, in \u001b[0;36m<listcomp>\u001b[0;34m(.0)\u001b[0m\n\u001b[1;32m     50\u001b[0m         data \u001b[38;5;241m=\u001b[39m \u001b[38;5;28mself\u001b[39m\u001b[38;5;241m.\u001b[39mdataset\u001b[38;5;241m.\u001b[39m__getitems__(possibly_batched_index)\n\u001b[1;32m     51\u001b[0m     \u001b[38;5;28;01melse\u001b[39;00m:\n\u001b[0;32m---> 52\u001b[0m         data \u001b[38;5;241m=\u001b[39m [\u001b[38;5;28;43mself\u001b[39;49m\u001b[38;5;241;43m.\u001b[39;49m\u001b[43mdataset\u001b[49m\u001b[43m[\u001b[49m\u001b[43midx\u001b[49m\u001b[43m]\u001b[49m \u001b[38;5;28;01mfor\u001b[39;00m idx \u001b[38;5;129;01min\u001b[39;00m possibly_batched_index]\n\u001b[1;32m     53\u001b[0m \u001b[38;5;28;01melse\u001b[39;00m:\n\u001b[1;32m     54\u001b[0m     data \u001b[38;5;241m=\u001b[39m \u001b[38;5;28mself\u001b[39m\u001b[38;5;241m.\u001b[39mdataset[possibly_batched_index]\n",
      "File \u001b[0;32m~/Desktop/228v_project/ocr_vn/dataloader.py:25\u001b[0m, in \u001b[0;36mEnvironmentDataset.__getitem__\u001b[0;34m(self, index)\u001b[0m\n\u001b[1;32m     22\u001b[0m V_val \u001b[38;5;241m=\u001b[39m \u001b[38;5;28mself\u001b[39m\u001b[38;5;241m.\u001b[39mV_val[index]\n\u001b[1;32m     23\u001b[0m del_V \u001b[38;5;241m=\u001b[39m \u001b[38;5;28mself\u001b[39m\u001b[38;5;241m.\u001b[39mdel_V[index, :]\n\u001b[0;32m---> 25\u001b[0m \u001b[38;5;28;01mreturn\u001b[39;00m {\u001b[38;5;124m\"\u001b[39m\u001b[38;5;124mX_r\u001b[39m\u001b[38;5;124m\"\u001b[39m: \u001b[43mtorch\u001b[49m\u001b[38;5;241;43m.\u001b[39;49m\u001b[43mtensor\u001b[49m\u001b[43m(\u001b[49m\u001b[43mX_r\u001b[49m\u001b[43m)\u001b[49m, \u001b[38;5;124m\"\u001b[39m\u001b[38;5;124mO_e\u001b[39m\u001b[38;5;124m\"\u001b[39m: torch\u001b[38;5;241m.\u001b[39mtensor(O_e), \u001b[38;5;124m\"\u001b[39m\u001b[38;5;124mV_val\u001b[39m\u001b[38;5;124m\"\u001b[39m: torch\u001b[38;5;241m.\u001b[39mtensor(V_val), \u001b[38;5;124m\"\u001b[39m\u001b[38;5;124mdel_V\u001b[39m\u001b[38;5;124m\"\u001b[39m: torch\u001b[38;5;241m.\u001b[39mtensor(del_V)}\n",
      "\u001b[0;31mKeyboardInterrupt\u001b[0m: "
     ]
    }
   ],
   "source": [
    "Loss = []\n",
    "\n",
    "for epoch in range(options['epochs']):\n",
    "    loss_epoch = 0.0\n",
    "    arr = np.arange(len(Trainloader))\n",
    "    np.random.shuffle(arr)\n",
    "\n",
    "    for i in arr:\n",
    "        train_loader = Trainloader[i]\n",
    "        for batch in train_loader:\n",
    "            X_r, O_e, V_val, del_V = batch['X_r'], batch['O_e'], batch['V_val'], batch['del_V']\n",
    "\n",
    "            input = torch.hstack((X_r, O_e)).to(device).float()\n",
    "            label_output = V_val.to(device).float()                        # [96]\n",
    "            label_output = label_output.view(-1, 1)\n",
    "            label_derivative_output = del_V.to(device).float()          # [96,3]\n",
    "\n",
    "            output_V = ocr(input)                                               # [96,1]\n",
    "            output_del_V = mlmodel.compute_first_derivative(ocr, input)     # [96,3]\n",
    "            loss_V = torch.nn.functional.mse_loss(label_output, output_V)\n",
    "            loss_del_V = torch.nn.functional.mse_loss(label_derivative_output, output_del_V)\n",
    "\n",
    "            total_loss = loss_V + loss_del_V\n",
    "\n",
    "            optimzer.zero_grad()\n",
    "            total_loss.backward()\n",
    "            optimzer.step()\n",
    "\n",
    "            loss_epoch += total_loss.item()\n",
    "    Loss.append(loss_epoch / len(train_loader))\n",
    "    print(Loss[-1])\n"
   ]
  },
  {
   "cell_type": "code",
   "execution_count": 30,
   "metadata": {},
   "outputs": [
    {
     "name": "stdout",
     "output_type": "stream",
     "text": [
      "43.686610261142484\n",
      "24.484836951069447\n",
      "20.09773768604487\n",
      "18.102188033390775\n",
      "16.728629929923464\n",
      "15.746210610900802\n",
      "14.764353842171216\n",
      "13.83298387917979\n",
      "13.060844720723072\n",
      "12.405389939459804\n",
      "11.72995739815564\n",
      "11.246599570773114\n",
      "10.80555552723764\n",
      "10.224155524281706\n",
      "9.917066255862686\n",
      "9.459693628024324\n",
      "8.995013803700378\n",
      "8.701529251375874\n",
      "8.468776491352882\n",
      "8.254688818278897\n",
      "7.896086270581945\n",
      "7.684375075716169\n",
      "7.467494471662346\n",
      "7.239400811950137\n",
      "7.034358872735866\n",
      "6.80072134287878\n",
      "6.571980655050598\n",
      "6.512291113821026\n",
      "6.443181556617391\n",
      "6.252739446316186\n",
      "6.130748964246663\n",
      "5.972517843818528\n",
      "5.899426057192557\n",
      "5.761519463697156\n",
      "5.73823503810213\n",
      "5.578330919888741\n",
      "5.430598843171907\n",
      "5.406056402515177\n",
      "5.317239166476489\n",
      "5.219306500707093\n",
      "5.179945257203332\n",
      "5.069873416931921\n",
      "5.024822769008606\n",
      "4.999454970104027\n",
      "4.94092343162417\n",
      "4.867431883468253\n",
      "4.795780570999187\n",
      "4.732429260580704\n",
      "4.6905262701184816\n",
      "4.649995189374206\n",
      "4.563155203201305\n",
      "4.6024109752870155\n",
      "4.523007623337466\n",
      "4.4953162768334725\n",
      "4.426013090943925\n",
      "4.385108131044669\n",
      "4.358991956345423\n",
      "4.31624771945778\n",
      "4.272829379957755\n",
      "4.269374581731827\n",
      "4.229321890949518\n",
      "4.188740734310671\n",
      "4.143942460731757\n",
      "4.118029915795472\n",
      "4.11576855433855\n",
      "4.015490250255184\n",
      "4.025430186498211\n",
      "4.008807069868192\n",
      "4.018988335212528\n",
      "3.968182528869631\n",
      "3.955082056879769\n",
      "3.913882641357252\n",
      "3.8993516174141476\n",
      "3.899173976646529\n",
      "3.833045366680485\n",
      "3.847630056242148\n",
      "3.8244934400893262\n",
      "3.8050315071511087\n",
      "3.775577764030389\n",
      "3.796265793771579\n",
      "3.732522390440278\n",
      "3.7351588681054753\n",
      "3.719464302833738\n",
      "3.714486335885936\n",
      "3.7136351427355945\n"
     ]
    },
    {
     "ename": "KeyboardInterrupt",
     "evalue": "",
     "output_type": "error",
     "traceback": [
      "\u001b[0;31m---------------------------------------------------------------------------\u001b[0m",
      "\u001b[0;31mKeyboardInterrupt\u001b[0m                         Traceback (most recent call last)",
      "Cell \u001b[0;32mIn[30], line 19\u001b[0m\n\u001b[1;32m     16\u001b[0m label_derivative_output \u001b[38;5;241m=\u001b[39m del_V\u001b[38;5;241m.\u001b[39mto(device)\u001b[38;5;241m.\u001b[39mfloat()          \u001b[38;5;66;03m# [96,3]\u001b[39;00m\n\u001b[1;32m     18\u001b[0m output_V \u001b[38;5;241m=\u001b[39m ocr_relu(\u001b[38;5;28minput\u001b[39m)                                               \u001b[38;5;66;03m# [96,1]\u001b[39;00m\n\u001b[0;32m---> 19\u001b[0m output_del_V \u001b[38;5;241m=\u001b[39m \u001b[43mmlmodel\u001b[49m\u001b[38;5;241;43m.\u001b[39;49m\u001b[43mcompute_first_derivative\u001b[49m\u001b[43m(\u001b[49m\u001b[43mocr_relu\u001b[49m\u001b[43m,\u001b[49m\u001b[43m \u001b[49m\u001b[38;5;28;43minput\u001b[39;49m\u001b[43m)\u001b[49m     \u001b[38;5;66;03m# [96,3]\u001b[39;00m\n\u001b[1;32m     20\u001b[0m loss_V \u001b[38;5;241m=\u001b[39m torch\u001b[38;5;241m.\u001b[39mnn\u001b[38;5;241m.\u001b[39mfunctional\u001b[38;5;241m.\u001b[39mmse_loss(label_output, output_V)\n\u001b[1;32m     21\u001b[0m loss_del_V \u001b[38;5;241m=\u001b[39m torch\u001b[38;5;241m.\u001b[39mnn\u001b[38;5;241m.\u001b[39mfunctional\u001b[38;5;241m.\u001b[39mmse_loss(label_derivative_output, output_del_V)\n",
      "File \u001b[0;32m~/Desktop/228v_project/ocr_vn/mlmodel.py:80\u001b[0m, in \u001b[0;36mcompute_first_derivative\u001b[0;34m(model, x)\u001b[0m\n\u001b[1;32m     77\u001b[0m     x\u001b[38;5;241m.\u001b[39mrequires_grad \u001b[38;5;241m=\u001b[39m \u001b[38;5;28;01mTrue\u001b[39;00m\n\u001b[1;32m     79\u001b[0m \u001b[38;5;66;03m# Forward pass\u001b[39;00m\n\u001b[0;32m---> 80\u001b[0m output \u001b[38;5;241m=\u001b[39m \u001b[43mmodel\u001b[49m\u001b[43m(\u001b[49m\u001b[43mx\u001b[49m\u001b[43m)\u001b[49m\n\u001b[1;32m     82\u001b[0m \u001b[38;5;66;03m# Check if output is connected to the computational graph\u001b[39;00m\n\u001b[1;32m     83\u001b[0m \u001b[38;5;28;01mif\u001b[39;00m output\u001b[38;5;241m.\u001b[39mgrad_fn \u001b[38;5;129;01mis\u001b[39;00m \u001b[38;5;28;01mNone\u001b[39;00m:\n",
      "File \u001b[0;32m~/Desktop/.venv/lib/python3.10/site-packages/torch/nn/modules/module.py:1739\u001b[0m, in \u001b[0;36mModule._wrapped_call_impl\u001b[0;34m(self, *args, **kwargs)\u001b[0m\n\u001b[1;32m   1737\u001b[0m     \u001b[38;5;28;01mreturn\u001b[39;00m \u001b[38;5;28mself\u001b[39m\u001b[38;5;241m.\u001b[39m_compiled_call_impl(\u001b[38;5;241m*\u001b[39margs, \u001b[38;5;241m*\u001b[39m\u001b[38;5;241m*\u001b[39mkwargs)  \u001b[38;5;66;03m# type: ignore[misc]\u001b[39;00m\n\u001b[1;32m   1738\u001b[0m \u001b[38;5;28;01melse\u001b[39;00m:\n\u001b[0;32m-> 1739\u001b[0m     \u001b[38;5;28;01mreturn\u001b[39;00m \u001b[38;5;28;43mself\u001b[39;49m\u001b[38;5;241;43m.\u001b[39;49m\u001b[43m_call_impl\u001b[49m\u001b[43m(\u001b[49m\u001b[38;5;241;43m*\u001b[39;49m\u001b[43margs\u001b[49m\u001b[43m,\u001b[49m\u001b[43m \u001b[49m\u001b[38;5;241;43m*\u001b[39;49m\u001b[38;5;241;43m*\u001b[39;49m\u001b[43mkwargs\u001b[49m\u001b[43m)\u001b[49m\n",
      "File \u001b[0;32m~/Desktop/.venv/lib/python3.10/site-packages/torch/nn/modules/module.py:1750\u001b[0m, in \u001b[0;36mModule._call_impl\u001b[0;34m(self, *args, **kwargs)\u001b[0m\n\u001b[1;32m   1745\u001b[0m \u001b[38;5;66;03m# If we don't have any hooks, we want to skip the rest of the logic in\u001b[39;00m\n\u001b[1;32m   1746\u001b[0m \u001b[38;5;66;03m# this function, and just call forward.\u001b[39;00m\n\u001b[1;32m   1747\u001b[0m \u001b[38;5;28;01mif\u001b[39;00m \u001b[38;5;129;01mnot\u001b[39;00m (\u001b[38;5;28mself\u001b[39m\u001b[38;5;241m.\u001b[39m_backward_hooks \u001b[38;5;129;01mor\u001b[39;00m \u001b[38;5;28mself\u001b[39m\u001b[38;5;241m.\u001b[39m_backward_pre_hooks \u001b[38;5;129;01mor\u001b[39;00m \u001b[38;5;28mself\u001b[39m\u001b[38;5;241m.\u001b[39m_forward_hooks \u001b[38;5;129;01mor\u001b[39;00m \u001b[38;5;28mself\u001b[39m\u001b[38;5;241m.\u001b[39m_forward_pre_hooks\n\u001b[1;32m   1748\u001b[0m         \u001b[38;5;129;01mor\u001b[39;00m _global_backward_pre_hooks \u001b[38;5;129;01mor\u001b[39;00m _global_backward_hooks\n\u001b[1;32m   1749\u001b[0m         \u001b[38;5;129;01mor\u001b[39;00m _global_forward_hooks \u001b[38;5;129;01mor\u001b[39;00m _global_forward_pre_hooks):\n\u001b[0;32m-> 1750\u001b[0m     \u001b[38;5;28;01mreturn\u001b[39;00m \u001b[43mforward_call\u001b[49m\u001b[43m(\u001b[49m\u001b[38;5;241;43m*\u001b[39;49m\u001b[43margs\u001b[49m\u001b[43m,\u001b[49m\u001b[43m \u001b[49m\u001b[38;5;241;43m*\u001b[39;49m\u001b[38;5;241;43m*\u001b[39;49m\u001b[43mkwargs\u001b[49m\u001b[43m)\u001b[49m\n\u001b[1;32m   1752\u001b[0m result \u001b[38;5;241m=\u001b[39m \u001b[38;5;28;01mNone\u001b[39;00m\n\u001b[1;32m   1753\u001b[0m called_always_called_hooks \u001b[38;5;241m=\u001b[39m \u001b[38;5;28mset\u001b[39m()\n",
      "File \u001b[0;32m~/Desktop/228v_project/ocr_vn/mlmodel.py:55\u001b[0m, in \u001b[0;36mOCR_NN_ReLu.forward\u001b[0;34m(self, x)\u001b[0m\n\u001b[1;32m     53\u001b[0m \u001b[38;5;28;01mdef\u001b[39;00m\u001b[38;5;250m \u001b[39m\u001b[38;5;21mforward\u001b[39m(\u001b[38;5;28mself\u001b[39m, x):\n\u001b[1;32m     54\u001b[0m     x \u001b[38;5;241m=\u001b[39m nn\u001b[38;5;241m.\u001b[39mfunctional\u001b[38;5;241m.\u001b[39mrelu(\u001b[38;5;28mself\u001b[39m\u001b[38;5;241m.\u001b[39mfc1(x))\n\u001b[0;32m---> 55\u001b[0m     x \u001b[38;5;241m=\u001b[39m nn\u001b[38;5;241m.\u001b[39mfunctional\u001b[38;5;241m.\u001b[39mrelu(\u001b[38;5;28;43mself\u001b[39;49m\u001b[38;5;241;43m.\u001b[39;49m\u001b[43mfc2\u001b[49m(x))\n\u001b[1;32m     56\u001b[0m     x \u001b[38;5;241m=\u001b[39m nn\u001b[38;5;241m.\u001b[39mfunctional\u001b[38;5;241m.\u001b[39mrelu(\u001b[38;5;28mself\u001b[39m\u001b[38;5;241m.\u001b[39mfc3(x))\n\u001b[1;32m     57\u001b[0m     x \u001b[38;5;241m=\u001b[39m nn\u001b[38;5;241m.\u001b[39mfunctional\u001b[38;5;241m.\u001b[39mrelu(\u001b[38;5;28mself\u001b[39m\u001b[38;5;241m.\u001b[39mfc4(x))\n",
      "File \u001b[0;32m~/Desktop/.venv/lib/python3.10/site-packages/torch/nn/modules/module.py:1915\u001b[0m, in \u001b[0;36mModule.__getattr__\u001b[0;34m(self, name)\u001b[0m\n\u001b[1;32m   1910\u001b[0m         \u001b[38;5;28mself\u001b[39m\u001b[38;5;241m.\u001b[39m_backward_pre_hooks \u001b[38;5;241m=\u001b[39m OrderedDict()\n\u001b[1;32m   1912\u001b[0m \u001b[38;5;66;03m# It is crucial that the return type is not annotated as `Any`, otherwise type checking\u001b[39;00m\n\u001b[1;32m   1913\u001b[0m \u001b[38;5;66;03m# on `torch.nn.Module` and all its subclasses is largely disabled as a result. See:\u001b[39;00m\n\u001b[1;32m   1914\u001b[0m \u001b[38;5;66;03m# https://github.com/pytorch/pytorch/pull/115074\u001b[39;00m\n\u001b[0;32m-> 1915\u001b[0m \u001b[38;5;28;01mdef\u001b[39;00m\u001b[38;5;250m \u001b[39m\u001b[38;5;21m__getattr__\u001b[39m(\u001b[38;5;28mself\u001b[39m, name: \u001b[38;5;28mstr\u001b[39m) \u001b[38;5;241m-\u001b[39m\u001b[38;5;241m>\u001b[39m Union[Tensor, \u001b[38;5;124m\"\u001b[39m\u001b[38;5;124mModule\u001b[39m\u001b[38;5;124m\"\u001b[39m]:\n\u001b[1;32m   1916\u001b[0m     \u001b[38;5;28;01mif\u001b[39;00m \u001b[38;5;124m\"\u001b[39m\u001b[38;5;124m_parameters\u001b[39m\u001b[38;5;124m\"\u001b[39m \u001b[38;5;129;01min\u001b[39;00m \u001b[38;5;28mself\u001b[39m\u001b[38;5;241m.\u001b[39m\u001b[38;5;18m__dict__\u001b[39m:\n\u001b[1;32m   1917\u001b[0m         _parameters \u001b[38;5;241m=\u001b[39m \u001b[38;5;28mself\u001b[39m\u001b[38;5;241m.\u001b[39m\u001b[38;5;18m__dict__\u001b[39m[\u001b[38;5;124m\"\u001b[39m\u001b[38;5;124m_parameters\u001b[39m\u001b[38;5;124m\"\u001b[39m]\n",
      "\u001b[0;31mKeyboardInterrupt\u001b[0m: "
     ]
    }
   ],
   "source": [
    "Loss_relu = []\n",
    "\n",
    "for epoch in range(options['epochs']):\n",
    "    loss_epoch = 0.0\n",
    "    arr = np.arange(len(Trainloader))\n",
    "    np.random.shuffle(arr)\n",
    "\n",
    "    for i in arr:\n",
    "        train_loader = Trainloader[i]\n",
    "        for batch in train_loader:\n",
    "            X_r, O_e, V_val, del_V = batch['X_r'], batch['O_e'], batch['V_val'], batch['del_V']\n",
    "\n",
    "            input = torch.hstack((X_r, O_e)).to(device).float()\n",
    "            label_output = V_val.to(device).float()                        # [96]\n",
    "            label_output = label_output.view(-1, 1)\n",
    "            label_derivative_output = del_V.to(device).float()          # [96,3]\n",
    "\n",
    "            output_V = ocr_relu(input)                                               # [96,1]\n",
    "            output_del_V = mlmodel.compute_first_derivative(ocr_relu, input)     # [96,3]\n",
    "            loss_V = torch.nn.functional.mse_loss(label_output, output_V)\n",
    "            loss_del_V = torch.nn.functional.mse_loss(label_derivative_output, output_del_V)\n",
    "\n",
    "            total_loss = loss_V + loss_del_V\n",
    "\n",
    "            optimzer_relu.zero_grad()\n",
    "            total_loss.backward()\n",
    "            optimzer_relu.step()\n",
    "\n",
    "            loss_epoch += total_loss.item()\n",
    "    Loss_relu.append(loss_epoch / len(train_loader))\n",
    "    print(Loss_relu[-1])"
   ]
  },
  {
   "cell_type": "code",
   "execution_count": 31,
   "metadata": {},
   "outputs": [],
   "source": [
    "mlmodel.save_model(ocr_relu, 'relu', options)"
   ]
  },
  {
   "cell_type": "code",
   "execution_count": null,
   "metadata": {},
   "outputs": [],
   "source": [
    "ocr_nn = mlmodel.load_model('try_1')"
   ]
  },
  {
   "cell_type": "code",
   "execution_count": null,
   "metadata": {},
   "outputs": [],
   "source": []
  },
  {
   "cell_type": "code",
   "execution_count": 15,
   "metadata": {},
   "outputs": [
    {
     "data": {
      "text/plain": [
       "[<matplotlib.lines.Line2D at 0x7f4d941173d0>]"
      ]
     },
     "execution_count": 15,
     "metadata": {},
     "output_type": "execute_result"
    },
    {
     "data": {
      "image/png": "[encoded data removed]",
      "text/plain": [
       "<Figure size 640x480 with 1 Axes>"
      ]
     },
     "metadata": {},
     "output_type": "display_data"
    }
   ],
   "source": [
    "plt.plot(np.array(Loss)/len(train_loader))"
   ]
  },
  {
   "cell_type": "code",
   "execution_count": null,
   "metadata": {},
   "outputs": [],
   "source": []
  }
 ],
 "metadata": {
  "kernelspec": {
   "display_name": ".venv",
   "language": "python",
   "name": "python3"
  },
  "language_info": {
   "codemirror_mode": {
    "name": "ipython",
    "version": 3
   },
   "file_extension": ".py",
   "mimetype": "text/x-python",
   "name": "python",
   "nbconvert_exporter": "python",
   "pygments_lexer": "ipython3",
   "version": "3.7.17"
  }
 },
 "nbformat": 4,
 "nbformat_minor": 2
}
